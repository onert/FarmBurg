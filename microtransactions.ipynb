{
 "cells": [
  {
   "cell_type": "markdown",
   "metadata": {},
   "source": [
    "# Project: Hypothesis Testing for Microtransactions\n",
    "Brian is a Product Manager at FarmBurg, a company that makes a farming simulation social network game.  In the FarmBurg game, you can plow, plant, and harvest different crops.\n",
    "\n",
    "Today, you will be acting as Brian's data analyst for an A/B Test that he has been conducting."
   ]
  },
  {
   "cell_type": "markdown",
   "metadata": {},
   "source": [
    "## Part 1: Testing for Significant Difference"
   ]
  },
  {
   "cell_type": "markdown",
   "metadata": {},
   "source": [
    "Start by importing the following modules that you'll need for this project:\n",
    "- `pandas` as `pd`"
   ]
  },
  {
   "cell_type": "code",
   "execution_count": 1,
   "metadata": {},
   "outputs": [],
   "source": [
    "import pandas as pd"
   ]
  },
  {
   "cell_type": "markdown",
   "metadata": {},
   "source": [
    "Brian tells you that he ran an A/B test with three different groups: A, B, and C.  You're kind of busy today, so you don't ask too many questions about the differences between A, B, and C.  Maybe they were shown three different versions of an ad.  Who cares?\n",
    "\n",
    "(HINT: you will care later)\n",
    "\n",
    "Brian gives you a CSV of results called `clicks.csv`.  It has the following columns:\n",
    "- `user_id`: a unique id for each visitor to the FarmBerg site\n",
    "- `ab_test_group`: either `A`, `B`, or `C` depending on which group the visitor was assigned to\n",
    "- `click_day`: only filled in *if* the user clicked on a link to purchase\n",
    "\n",
    "Load `clicks.csv` into the variable `df`."
   ]
  },
  {
   "cell_type": "code",
   "execution_count": 2,
   "metadata": {},
   "outputs": [
    {
     "data": {
      "text/html": [
       "<div>\n",
       "<style scoped>\n",
       "    .dataframe tbody tr th:only-of-type {\n",
       "        vertical-align: middle;\n",
       "    }\n",
       "\n",
       "    .dataframe tbody tr th {\n",
       "        vertical-align: top;\n",
       "    }\n",
       "\n",
       "    .dataframe thead th {\n",
       "        text-align: right;\n",
       "    }\n",
       "</style>\n",
       "<table border=\"1\" class=\"dataframe\">\n",
       "  <thead>\n",
       "    <tr style=\"text-align: right;\">\n",
       "      <th></th>\n",
       "      <th>user_id</th>\n",
       "      <th>group</th>\n",
       "      <th>click_day</th>\n",
       "    </tr>\n",
       "  </thead>\n",
       "  <tbody>\n",
       "    <tr>\n",
       "      <th>0</th>\n",
       "      <td>8e27bf9a-5b6e-41ed-801a-a59979c0ca98</td>\n",
       "      <td>A</td>\n",
       "      <td>NaN</td>\n",
       "    </tr>\n",
       "    <tr>\n",
       "      <th>1</th>\n",
       "      <td>eb89e6f0-e682-4f79-99b1-161cc1c096f1</td>\n",
       "      <td>A</td>\n",
       "      <td>NaN</td>\n",
       "    </tr>\n",
       "    <tr>\n",
       "      <th>2</th>\n",
       "      <td>7119106a-7a95-417b-8c4c-092c12ee5ef7</td>\n",
       "      <td>A</td>\n",
       "      <td>NaN</td>\n",
       "    </tr>\n",
       "    <tr>\n",
       "      <th>3</th>\n",
       "      <td>e53781ff-ff7a-4fcd-af1a-adba02b2b954</td>\n",
       "      <td>A</td>\n",
       "      <td>NaN</td>\n",
       "    </tr>\n",
       "    <tr>\n",
       "      <th>4</th>\n",
       "      <td>02d48cf1-1ae6-40b3-9d8b-8208884a0904</td>\n",
       "      <td>A</td>\n",
       "      <td>Saturday</td>\n",
       "    </tr>\n",
       "  </tbody>\n",
       "</table>\n",
       "</div>"
      ],
      "text/plain": [
       "                                user_id group click_day\n",
       "0  8e27bf9a-5b6e-41ed-801a-a59979c0ca98     A       NaN\n",
       "1  eb89e6f0-e682-4f79-99b1-161cc1c096f1     A       NaN\n",
       "2  7119106a-7a95-417b-8c4c-092c12ee5ef7     A       NaN\n",
       "3  e53781ff-ff7a-4fcd-af1a-adba02b2b954     A       NaN\n",
       "4  02d48cf1-1ae6-40b3-9d8b-8208884a0904     A  Saturday"
      ]
     },
     "execution_count": 2,
     "metadata": {},
     "output_type": "execute_result"
    }
   ],
   "source": [
    "df = pd.read_csv('clicks.csv')\n",
    "df.head()"
   ]
  },
  {
   "cell_type": "markdown",
   "metadata": {},
   "source": [
    "Define a new column called `is_purchase` which is `Purchase` if `click_day` is not `None` and `No Purchase` if `click_day` is `None`.  This will tell us if each visitor clicked on the Purchase link."
   ]
  },
  {
   "cell_type": "code",
   "execution_count": 3,
   "metadata": {},
   "outputs": [],
   "source": [
    "df['is_purchase'] = df.click_day.apply(lambda x: 'Purchase' if pd.notnull(x) else 'No Purchase')"
   ]
  },
  {
   "cell_type": "markdown",
   "metadata": {
    "collapsed": true
   },
   "source": [
    "We want to count the number of users who made a purchase from each group.  Use `groupby` to count the number of `Purchase` and `No Purchase` from each `group`.  Save your answer to the variable `purchase_counts`.\n",
    "\n",
    "**Hint**: Group by `group` and `is_purchase` and the function `count` on the column `user_id`."
   ]
  },
  {
   "cell_type": "code",
   "execution_count": 4,
   "metadata": {},
   "outputs": [
    {
     "name": "stdout",
     "output_type": "stream",
     "text": [
      "group  is_purchase\n",
      "A      No Purchase    1350\n",
      "       Purchase        316\n",
      "B      No Purchase    1483\n",
      "       Purchase        183\n",
      "C      No Purchase    1583\n",
      "       Purchase         83\n",
      "Name: user_id, dtype: int64\n"
     ]
    }
   ],
   "source": [
    "purchase_counts = df.groupby(['group','is_purchase']).user_id.count()\n",
    "print(purchase_counts)"
   ]
  },
  {
   "cell_type": "markdown",
   "metadata": {
    "collapsed": true
   },
   "source": [
    "This data is *categorical* and there are *more than 2* conditions, so we'll want to use a chi-squared test to see if there is a significant difference between the three conditions.\n",
    "\n",
    "Start by filling in the contingency table below with the correct values:\n",
    "```py\n",
    "contingency = [[groupA_purchases, groupA_not_purchases],\n",
    "               [groupB_purchases, groupB_not_purchases],\n",
    "               [groupC_purchases, groupC_not_purchases]]\n",
    "```"
   ]
  },
  {
   "cell_type": "code",
   "execution_count": 5,
   "metadata": {},
   "outputs": [],
   "source": [
    "contingency = [[316,1350],[183,1483],[83,1583]]"
   ]
  },
  {
   "cell_type": "markdown",
   "metadata": {},
   "source": [
    "Now import the function `chi2_contingency` from `scipy.stats` and perform the chi-squared test.\n",
    "\n",
    "Recall that the *p-value* is the second output of `chi2_contingency`."
   ]
  },
  {
   "cell_type": "code",
   "execution_count": 6,
   "metadata": {},
   "outputs": [],
   "source": [
    "from scipy.stats import chi2_contingency"
   ]
  },
  {
   "cell_type": "code",
   "execution_count": 7,
   "metadata": {},
   "outputs": [
    {
     "name": "stdout",
     "output_type": "stream",
     "text": [
      "2.4126213546684264e-35\n"
     ]
    }
   ],
   "source": [
    "chi2,pval,dof,expected = chi2_contingency(contingency)\n",
    "print(pval)"
   ]
  },
  {
   "cell_type": "markdown",
   "metadata": {},
   "source": [
    "Great! It looks like a significantly greater portion of users from Group A made a purchase."
   ]
  },
  {
   "cell_type": "markdown",
   "metadata": {},
   "source": [
    "## Part 2: Testing for Exceeding a Goal\n",
    "\n",
    "Your day is a little less busy than you expected, so you decide to ask Brian about his test.\n",
    "\n",
    "**You**: Hey Brian! What was that test you were running anyway?\n",
    "\n",
    "**Brian**: It was awesome! We are trying to get users to purchase a small FarmBurg upgrade package.  It's called a microtransaction.  We're not sure how much to charge for it, so we tested three different price points: \\$0.99, \\$1.99, and \\$4.99.  It looks like significantly more people bought the upgrade package for \\$0.99, so I guess that's what we'll charge.\n",
    "\n",
    "**You**: Oh no! I should have asked you this before we did that chi-squared test.  I don't think that this was the right test at all.  It's true that more people wanted purchase the upgrade at \\$0.99; you probably expected that.  What we really want to know is if each price point allows us to make enough money that we can exceed some target goal.  Brian, how much do you think it cost to build this feature?\n",
    "\n",
    "**Brian**: Hmm.  I guess that we need to generate a minimum of $1000 per week in order to justify this project.\n",
    "\n",
    "**You**: We have some work to do!"
   ]
  },
  {
   "cell_type": "markdown",
   "metadata": {},
   "source": [
    "How many visitors came to the site this week?\n",
    "\n",
    "Hint: Look at the length of `df`."
   ]
  },
  {
   "cell_type": "code",
   "execution_count": 18,
   "metadata": {},
   "outputs": [
    {
     "name": "stdout",
     "output_type": "stream",
     "text": [
      "4998\n"
     ]
    }
   ],
   "source": [
    "total_visitors = len(df)\n",
    "print(total_visitors)"
   ]
  },
  {
   "cell_type": "markdown",
   "metadata": {},
   "source": [
    "Let's assume that this is how many visitors we generally get each week.  Given that, calculate the percent of visitors who would need to purchase the upgrade package at each price point (\\$0.99, \\$1.99, \\$4.99) in order to generate \\$1000 per week."
   ]
  },
  {
   "cell_type": "code",
   "execution_count": 26,
   "metadata": {},
   "outputs": [
    {
     "name": "stdout",
     "output_type": "stream",
     "text": [
      "1011.1010101010102\n",
      "0.20230112246918971\n"
     ]
    }
   ],
   "source": [
    "# Calculate the number of people who would need to purchase a $0.99 upgrade in order to generate $1000.\n",
    "ppA = 1000/.99 + 1\n",
    "print(ppA)\n",
    "# Then divide by the number of people who visit the site each week.\n",
    "print(ppA/4998)"
   ]
  },
  {
   "cell_type": "code",
   "execution_count": 27,
   "metadata": {},
   "outputs": [
    {
     "name": "stdout",
     "output_type": "stream",
     "text": [
      "503.51256281407035\n",
      "0.10074280968668875\n"
     ]
    }
   ],
   "source": [
    "# Calculate the number of people who would need to purchase a $1.99 upgrade in order to generate $1000.\n",
    "ppB = 1000/1.99 + 1\n",
    "print(ppB)\n",
    "# Then divide by the number of people who visit the site each week.\n",
    "print(ppB/4998)"
   ]
  },
  {
   "cell_type": "code",
   "execution_count": 28,
   "metadata": {},
   "outputs": [
    {
     "name": "stdout",
     "output_type": "stream",
     "text": [
      "201.40080160320642\n",
      "0.040296278832174154\n"
     ]
    }
   ],
   "source": [
    "# Calculate the number of people who would need to purchase a $4.99 upgrade in order to generate $1000.\n",
    "# Then divide by the number of people who visit the site each week.\n",
    "ppC = 1000/4.99 + 1\n",
    "print(ppC)\n",
    "print(ppC/4998)"
   ]
  },
  {
   "cell_type": "markdown",
   "metadata": {},
   "source": [
    "Note that you need a smaller percentage of purchases for higher price points.\n",
    "\n",
    "Now, for each group, perform a binomial test using `binom_test` from `scipy.stats`.\n",
    "- `x` will be the number of purchases for that group\n",
    "- `n` will be the total number of visitors assigned to that group\n",
    "- `p` will be the target percent of purchases for that price point (calculated above)\n",
    "\n",
    "Recall that:\n",
    "- Group `A` is the \\$0.99 price point\n",
    "- Group `B` is the \\$1.99 price point\n",
    "- Group `C` is the \\$4.99 price point"
   ]
  },
  {
   "cell_type": "code",
   "execution_count": 29,
   "metadata": {},
   "outputs": [],
   "source": [
    "# import the binomial test from scipy.stats here\n",
    "from scipy.stats import binom_test"
   ]
  },
  {
   "cell_type": "code",
   "execution_count": 30,
   "metadata": {},
   "outputs": [
    {
     "name": "stdout",
     "output_type": "stream",
     "text": [
      "0.29791642311457833\n"
     ]
    }
   ],
   "source": [
    "# Test group A here\n",
    "pvalA = binom_test(316,n=1666,p=0.20)\n",
    "print(pvalA)"
   ]
  },
  {
   "cell_type": "code",
   "execution_count": 32,
   "metadata": {},
   "outputs": [
    {
     "name": "stdout",
     "output_type": "stream",
     "text": [
      "0.1778866596062784\n"
     ]
    }
   ],
   "source": [
    "# Test group B here\n",
    "pvalB = binom_test(183,n=1666,p=0.10)\n",
    "print(pvalB)"
   ]
  },
  {
   "cell_type": "code",
   "execution_count": 33,
   "metadata": {},
   "outputs": [
    {
     "name": "stdout",
     "output_type": "stream",
     "text": [
      "0.04517298955409145\n"
     ]
    }
   ],
   "source": [
    "# Test group C here\n",
    "pvalC = binom_test(83,n=1666,p=0.04)\n",
    "print(pvalC)"
   ]
  },
  {
   "cell_type": "markdown",
   "metadata": {},
   "source": [
    "If any of the groups passed the binomial test with $p < 0.05$, then we can be confident that enough people will buy the upgrade package at that price point to justify the feature.\n",
    "\n",
    "Which price point should Brian go with?  Did this surprise you?"
   ]
  },
  {
   "cell_type": "markdown",
   "metadata": {},
   "source": [
    "Brian should go with the $4.99 price point. The binomial test has told us that we can hit our $1000/week goal, given the number of people that decided to purchase at that price point. At the lower price points, not enough people decided to purchase to justify the lower price."
   ]
  }
 ],
 "metadata": {
  "kernelspec": {
   "display_name": "Python 3",
   "language": "python",
   "name": "python3"
  },
  "language_info": {
   "codemirror_mode": {
    "name": "ipython",
    "version": 3
   },
   "file_extension": ".py",
   "mimetype": "text/x-python",
   "name": "python",
   "nbconvert_exporter": "python",
   "pygments_lexer": "ipython3",
   "version": "3.6.5"
  }
 },
 "nbformat": 4,
 "nbformat_minor": 2
}
